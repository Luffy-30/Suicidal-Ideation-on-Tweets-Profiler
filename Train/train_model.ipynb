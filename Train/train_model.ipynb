{
  "nbformat": 4,
  "nbformat_minor": 0,
  "metadata": {
    "colab": {
      "provenance": []
    },
    "kernelspec": {
      "name": "python3",
      "display_name": "Python 3"
    },
    "language_info": {
      "name": "python"
    },
    "accelerator": "GPU",
    "gpuClass": "standard"
  },
  "cells": [
    {
      "cell_type": "code",
      "execution_count": null,
      "metadata": {
        "id": "fM9j0Kq1teGI",
        "colab": {
          "base_uri": "https://localhost:8080/"
        },
        "outputId": "490e49d9-332b-49db-85b9-6aa2c44cd6d5"
      },
      "outputs": [
        {
          "output_type": "stream",
          "name": "stdout",
          "text": [
            "Mounted at /content/drive\n"
          ]
        }
      ],
      "source": [
        "from google.colab import drive\n",
        "drive.mount('/content/drive')"
      ]
    },
    {
      "cell_type": "code",
      "source": [
        "!pip install scikit-plot\n",
        "import nltk\n",
        "nltk.download('omw-1.4')\n",
        "nltk.download('wordnet')\n",
        "import time\n",
        "import logging\n",
        "import pandas as pd\n",
        "import numpy as np\n",
        "from numpy import random\n",
        "import gensim\n",
        "from sklearn.model_selection import train_test_split\n",
        "from sklearn.feature_extraction.text import CountVectorizer, TfidfVectorizer\n",
        "from sklearn.metrics import accuracy_score, confusion_matrix\n",
        "import matplotlib.pyplot as plt\n",
        "from nltk.corpus import stopwords\n",
        "import re\n",
        "from sklearn.metrics import classification_report,confusion_matrix,balanced_accuracy_score\n",
        "import scikitplot as skplt\n",
        "import matplotlib.pyplot as plt\n",
        "from gensim.models import Word2Vec\n",
        "from tqdm import tqdm\n",
        "tqdm.pandas(desc=\"progress-bar\")\n",
        "from gensim.models import doc2vec\n",
        "from gensim.models import Doc2Vec\n",
        "from sklearn import utils\n",
        "from gensim.models.doc2vec import TaggedDocument"
      ],
      "metadata": {
        "id": "b92rnOE_tmWf",
        "colab": {
          "base_uri": "https://localhost:8080/"
        },
        "outputId": "0f3bd498-5a38-4067-a100-64b01e9fdc8c"
      },
      "execution_count": null,
      "outputs": [
        {
          "output_type": "stream",
          "name": "stdout",
          "text": [
            "Looking in indexes: https://pypi.org/simple, https://us-python.pkg.dev/colab-wheels/public/simple/\n",
            "Collecting scikit-plot\n",
            "  Downloading scikit_plot-0.3.7-py3-none-any.whl (33 kB)\n",
            "Requirement already satisfied: matplotlib>=1.4.0 in /usr/local/lib/python3.9/dist-packages (from scikit-plot) (3.7.1)\n",
            "Requirement already satisfied: scipy>=0.9 in /usr/local/lib/python3.9/dist-packages (from scikit-plot) (1.10.1)\n",
            "Requirement already satisfied: scikit-learn>=0.18 in /usr/local/lib/python3.9/dist-packages (from scikit-plot) (1.2.2)\n",
            "Requirement already satisfied: joblib>=0.10 in /usr/local/lib/python3.9/dist-packages (from scikit-plot) (1.1.1)\n",
            "Requirement already satisfied: fonttools>=4.22.0 in /usr/local/lib/python3.9/dist-packages (from matplotlib>=1.4.0->scikit-plot) (4.39.0)\n",
            "Requirement already satisfied: numpy>=1.20 in /usr/local/lib/python3.9/dist-packages (from matplotlib>=1.4.0->scikit-plot) (1.22.4)\n",
            "Requirement already satisfied: cycler>=0.10 in /usr/local/lib/python3.9/dist-packages (from matplotlib>=1.4.0->scikit-plot) (0.11.0)\n",
            "Requirement already satisfied: python-dateutil>=2.7 in /usr/local/lib/python3.9/dist-packages (from matplotlib>=1.4.0->scikit-plot) (2.8.2)\n",
            "Requirement already satisfied: contourpy>=1.0.1 in /usr/local/lib/python3.9/dist-packages (from matplotlib>=1.4.0->scikit-plot) (1.0.7)\n",
            "Requirement already satisfied: pillow>=6.2.0 in /usr/local/lib/python3.9/dist-packages (from matplotlib>=1.4.0->scikit-plot) (8.4.0)\n",
            "Requirement already satisfied: kiwisolver>=1.0.1 in /usr/local/lib/python3.9/dist-packages (from matplotlib>=1.4.0->scikit-plot) (1.4.4)\n",
            "Requirement already satisfied: packaging>=20.0 in /usr/local/lib/python3.9/dist-packages (from matplotlib>=1.4.0->scikit-plot) (23.0)\n",
            "Requirement already satisfied: importlib-resources>=3.2.0 in /usr/local/lib/python3.9/dist-packages (from matplotlib>=1.4.0->scikit-plot) (5.12.0)\n",
            "Requirement already satisfied: pyparsing>=2.3.1 in /usr/local/lib/python3.9/dist-packages (from matplotlib>=1.4.0->scikit-plot) (3.0.9)\n",
            "Requirement already satisfied: threadpoolctl>=2.0.0 in /usr/local/lib/python3.9/dist-packages (from scikit-learn>=0.18->scikit-plot) (3.1.0)\n",
            "Requirement already satisfied: zipp>=3.1.0 in /usr/local/lib/python3.9/dist-packages (from importlib-resources>=3.2.0->matplotlib>=1.4.0->scikit-plot) (3.15.0)\n",
            "Requirement already satisfied: six>=1.5 in /usr/local/lib/python3.9/dist-packages (from python-dateutil>=2.7->matplotlib>=1.4.0->scikit-plot) (1.15.0)\n",
            "Installing collected packages: scikit-plot\n",
            "Successfully installed scikit-plot-0.3.7\n"
          ]
        },
        {
          "output_type": "stream",
          "name": "stderr",
          "text": [
            "[nltk_data] Downloading package omw-1.4 to /root/nltk_data...\n",
            "[nltk_data] Downloading package wordnet to /root/nltk_data...\n"
          ]
        }
      ]
    },
    {
      "cell_type": "code",
      "source": [
        "from sklearn.cluster import KMeans, DBSCAN\n",
        "from sklearn.preprocessing import StandardScaler\n",
        "from sklearn.cluster import DBSCAN\n",
        "from sklearn import metrics\n",
        "from sklearn.decomposition import PCA\n",
        "from sklearn.neighbors import NearestNeighbors\n",
        "from sklearn.feature_extraction.text import CountVectorizer, TfidfTransformer\n",
        "from sklearn import tree"
      ],
      "metadata": {
        "id": "p7juC0nitmes"
      },
      "execution_count": null,
      "outputs": []
    },
    {
      "cell_type": "code",
      "source": [
        "final_ds=\"/content/drive/MyDrive/FINAL/final.csv\"\n",
        "tdf=pd.read_csv(final_ds,encoding='utf-8',sep=',')\n",
        "\n",
        "tdf=tdf.dropna()\n"
      ],
      "metadata": {
        "id": "O0wq-aTHtiBP"
      },
      "execution_count": null,
      "outputs": []
    },
    {
      "cell_type": "code",
      "source": [
        "a=df.groupby('User')['Si'].sum()\n",
        "a.iloc[:20]"
      ],
      "metadata": {
        "id": "VXV2eThk1dtF",
        "colab": {
          "base_uri": "https://localhost:8080/",
          "height": 183
        },
        "outputId": "80cd7e24-4ade-4148-ca17-ebca87313a03"
      },
      "execution_count": null,
      "outputs": [
        {
          "output_type": "error",
          "ename": "NameError",
          "evalue": "ignored",
          "traceback": [
            "\u001b[0;31m---------------------------------------------------------------------------\u001b[0m",
            "\u001b[0;31mNameError\u001b[0m                                 Traceback (most recent call last)",
            "\u001b[0;32m<ipython-input-5-f55cfb330542>\u001b[0m in \u001b[0;36m<module>\u001b[0;34m\u001b[0m\n\u001b[0;32m----> 1\u001b[0;31m \u001b[0ma\u001b[0m\u001b[0;34m=\u001b[0m\u001b[0mdf\u001b[0m\u001b[0;34m.\u001b[0m\u001b[0mgroupby\u001b[0m\u001b[0;34m(\u001b[0m\u001b[0;34m'User'\u001b[0m\u001b[0;34m)\u001b[0m\u001b[0;34m[\u001b[0m\u001b[0;34m'Si'\u001b[0m\u001b[0;34m]\u001b[0m\u001b[0;34m.\u001b[0m\u001b[0msum\u001b[0m\u001b[0;34m(\u001b[0m\u001b[0;34m)\u001b[0m\u001b[0;34m\u001b[0m\u001b[0;34m\u001b[0m\u001b[0m\n\u001b[0m\u001b[1;32m      2\u001b[0m \u001b[0ma\u001b[0m\u001b[0;34m.\u001b[0m\u001b[0miloc\u001b[0m\u001b[0;34m[\u001b[0m\u001b[0;34m:\u001b[0m\u001b[0;36m20\u001b[0m\u001b[0;34m]\u001b[0m\u001b[0;34m\u001b[0m\u001b[0;34m\u001b[0m\u001b[0m\n",
            "\u001b[0;31mNameError\u001b[0m: name 'df' is not defined"
          ]
        }
      ]
    },
    {
      "cell_type": "code",
      "source": [
        "for i,u in a.items():\n",
        "  if u>=3:print(i)"
      ],
      "metadata": {
        "id": "cJDrvzy-1dwN"
      },
      "execution_count": null,
      "outputs": []
    },
    {
      "cell_type": "code",
      "source": [
        "for i,u in a.items():\n",
        "  if u<3:print(i)"
      ],
      "metadata": {
        "id": "Xq20RYVm1d14"
      },
      "execution_count": null,
      "outputs": []
    },
    {
      "cell_type": "code",
      "source": [
        "def preprocess_text(text, flg_stemm=False, flg_lemm=True, lst_stopwords=None):\n",
        "      ## clean (convert to lowercase and remove punctuations and characters and then strip)\n",
        "    text = re.sub(r'[^\\w\\s]', '', str(text).lower().strip())\n",
        "\n",
        "    ## Tokenize (convert from string to list)\n",
        "    lst_text = text.split()\n",
        "\n",
        "    ## remove Stopwords\n",
        "    if lst_stopwords is not None:\n",
        "        lst_text = [word for word in lst_text if word not in lst_stopwords]\n",
        "\n",
        "    ## Stemming (remove -ing, -ly, ...)\n",
        "    if flg_stemm == True:\n",
        "        ps = nltk.stem.porter.PorterStemmer()\n",
        "        lst_text = [ps.stem(word) for word in lst_text]\n",
        "\n",
        "    ## Lemmatisation (convert the word into root word)\n",
        "    if flg_lemm == True:\n",
        "        lem = nltk.stem.wordnet.WordNetLemmatizer()\n",
        "        lst_text = [lem.lemmatize(word) for word in lst_text]\n",
        "\n",
        "    ## back to string from list\n",
        "    text = \" \".join(lst_text)\n",
        "    return text\n",
        "lst_stopwords=['we',  'our',  'ours',  'ourselves',  'you',  \"you're\",  \"you've\",  \"you'll\",  \"you'd\",  'your',  'yours',  'yourself',  'yourselves',  'he',  'him',  'his',  'himself',  'she',  \"she's\",  'her',  'hers',  'herself',  'it',  \"it's\",  'its',  'itself',  'they',  'them',  'their',  'theirs',  'themselves',  'what',  'which',  'who',  'whom',  'this',  'that',  \"that'll\",  'these',  'those',  'am',  'is',  'are',  'was',  'were',  'be',  'been',  'being',  'have',  'has',  'had',  'having',  'do',  'does',  'did',  'doing',  'a',  'an',  'the',  'and',  'but',  'if',  'or',  'because',  'as',  'until',  'while',  'of',  'at',  'by',  'for',  'with',  'about',  'against',  'between',  'into',  'through',  'during',  'before',  'after',  'above',  'below',  'to',  'from',  'up',  'down',  'in',  'out',  'on',  'off',  'over',  'under',  'again',  'further',  'then',  'once',  'here',  'there',  'when',  'where',  'why',  'how',  'all',  'any',  'both',  'each',  'few',  'more',  'most',  'other',  'some',  'such',  'no',  'nor',  'not',  'only',  'own',  'same',  'so',  'than',  'too',  'very',  's',  't',  'can',  'will',  'just',  'don',  \"don't\",  'should',  \"should've\",  'now',  'd',  'll',  'm',  'o',  're',  've',  'y',  'ain',  'aren',  \"aren't\",  'couldn',  \"couldn't\",  'didn',  \"didn't\",  'doesn',  \"doesn't\",  'hadn',  \"hadn't\",  'hasn',  \"hasn't\",  'haven',  \"haven't\",  'isn',  \"isn't\",  'ma',  'mightn',  \"mightn't\",  'mustn',  \"mustn't\",  'needn',  \"needn't\",  'shan',  \"shan't\",  'shouldn',  \"shouldn't\",  'wasn',  \"wasn't\",  'weren',  \"weren't\",  'won',  \"won't\",  'wouldn',  \"wouldn't\"]\n",
        "\n",
        "tdf[\"Tweet\"]= tdf[\"Tweet\"].apply(lambda x: preprocess_text(x, flg_stemm=False, flg_lemm=True,lst_stopwords=lst_stopwords))\n"
      ],
      "metadata": {
        "id": "BmYv4Wfg62Je"
      },
      "execution_count": null,
      "outputs": []
    },
    {
      "cell_type": "code",
      "source": [
        "tdf"
      ],
      "metadata": {
        "id": "P-4oC66562Mk"
      },
      "execution_count": null,
      "outputs": []
    },
    {
      "cell_type": "code",
      "source": [
        "x_train, x_test, y_train, y_test = train_test_split(df[\"Tweet\"],df[\"Si\"], test_size = 0.33, random_state = 42)"
      ],
      "metadata": {
        "id": "0_9PKMpY7cu5"
      },
      "execution_count": null,
      "outputs": []
    },
    {
      "cell_type": "code",
      "source": [
        "count_vect = CountVectorizer()                        #Convert a collection of text documents to a matrix of token counts\n",
        "transformer = TfidfTransformer(norm='l2',sublinear_tf=True)\n",
        "\n",
        "X_train_counts = count_vect.fit_transform(x_train)\n",
        "X_train = transformer.fit_transform(X_train_counts)\n",
        "\n",
        "X_test_counts = count_vect.transform(x_test)\n",
        "X_test= transformer.transform(X_test_counts)"
      ],
      "metadata": {
        "id": "vdKoaMzO7c0t"
      },
      "execution_count": null,
      "outputs": []
    },
    {
      "cell_type": "code",
      "source": [
        "model_1 = tree.DecisionTreeClassifier()\n",
        "model_1.fit(X_train,y_train)\n",
        "y_pred1 = model_1.predict(X_test)\n",
        "pd.DataFrame(\n",
        "    confusion_matrix(y_test, y_pred1),                      #to check how good is your model prediction\n",
        "    columns=['True Positive', 'True Negative'],\n",
        "    index=['Predicted Positive', 'Predicted Negative'])\n"
      ],
      "metadata": {
        "id": "bpfMBA_m7c3_"
      },
      "execution_count": null,
      "outputs": []
    },
    {
      "cell_type": "code",
      "source": [
        "import csv"
      ],
      "metadata": {
        "id": "2Fy0Q-Vtfjhu"
      },
      "execution_count": null,
      "outputs": []
    },
    {
      "cell_type": "code",
      "source": [
        "import pandas as pd\n",
        "import numpy as np\n",
        "import re\n",
        "import nltk\n",
        "from nltk.corpus import stopwords\n",
        "from numpy import array\n",
        "\n",
        "from keras.preprocessing.text import one_hot, Tokenizer\n",
        "from tensorflow.keras.preprocessing.sequence import pad_sequences\n",
        "from keras.models import Sequential\n",
        "from keras.layers.core import Activation, Dropout, Dense\n",
        "from keras.layers import Flatten, GlobalMaxPooling1D, Embedding, Conv1D, LSTM\n",
        "from sklearn.model_selection import train_test_split"
      ],
      "metadata": {
        "id": "EpT8XZ2tfjq1"
      },
      "execution_count": null,
      "outputs": []
    },
    {
      "cell_type": "code",
      "source": [
        "final_ds=\"/content/drive/MyDrive/FINAL/twitter-suicidal_data.csv\"\n",
        "df=pd.read_csv(final_ds,encoding='utf-8',sep=',')\n",
        "\n",
        "df=df.dropna()\n",
        "df.head()"
      ],
      "metadata": {
        "colab": {
          "base_uri": "https://localhost:8080/",
          "height": 206
        },
        "id": "PhlkKoju4BLh",
        "outputId": "cac70c1e-95e3-4d57-8024-fe53a97b7087"
      },
      "execution_count": null,
      "outputs": [
        {
          "output_type": "execute_result",
          "data": {
            "text/plain": [
              "                                               tweet  intention\n",
              "0  my life is meaningless i just want to end my l...          1\n",
              "1  muttering i wanna die to myself daily for a fe...          1\n",
              "2  work slave i really feel like my only purpose ...          1\n",
              "3  i did something on the 2 of october i overdose...          1\n",
              "4  i feel like no one cares i just want to die ma...          1"
            ],
            "text/html": [
              "\n",
              "  <div id=\"df-161bfcfb-e789-402e-b041-afc2898100d6\">\n",
              "    <div class=\"colab-df-container\">\n",
              "      <div>\n",
              "<style scoped>\n",
              "    .dataframe tbody tr th:only-of-type {\n",
              "        vertical-align: middle;\n",
              "    }\n",
              "\n",
              "    .dataframe tbody tr th {\n",
              "        vertical-align: top;\n",
              "    }\n",
              "\n",
              "    .dataframe thead th {\n",
              "        text-align: right;\n",
              "    }\n",
              "</style>\n",
              "<table border=\"1\" class=\"dataframe\">\n",
              "  <thead>\n",
              "    <tr style=\"text-align: right;\">\n",
              "      <th></th>\n",
              "      <th>tweet</th>\n",
              "      <th>intention</th>\n",
              "    </tr>\n",
              "  </thead>\n",
              "  <tbody>\n",
              "    <tr>\n",
              "      <th>0</th>\n",
              "      <td>my life is meaningless i just want to end my l...</td>\n",
              "      <td>1</td>\n",
              "    </tr>\n",
              "    <tr>\n",
              "      <th>1</th>\n",
              "      <td>muttering i wanna die to myself daily for a fe...</td>\n",
              "      <td>1</td>\n",
              "    </tr>\n",
              "    <tr>\n",
              "      <th>2</th>\n",
              "      <td>work slave i really feel like my only purpose ...</td>\n",
              "      <td>1</td>\n",
              "    </tr>\n",
              "    <tr>\n",
              "      <th>3</th>\n",
              "      <td>i did something on the 2 of october i overdose...</td>\n",
              "      <td>1</td>\n",
              "    </tr>\n",
              "    <tr>\n",
              "      <th>4</th>\n",
              "      <td>i feel like no one cares i just want to die ma...</td>\n",
              "      <td>1</td>\n",
              "    </tr>\n",
              "  </tbody>\n",
              "</table>\n",
              "</div>\n",
              "      <button class=\"colab-df-convert\" onclick=\"convertToInteractive('df-161bfcfb-e789-402e-b041-afc2898100d6')\"\n",
              "              title=\"Convert this dataframe to an interactive table.\"\n",
              "              style=\"display:none;\">\n",
              "        \n",
              "  <svg xmlns=\"http://www.w3.org/2000/svg\" height=\"24px\"viewBox=\"0 0 24 24\"\n",
              "       width=\"24px\">\n",
              "    <path d=\"M0 0h24v24H0V0z\" fill=\"none\"/>\n",
              "    <path d=\"M18.56 5.44l.94 2.06.94-2.06 2.06-.94-2.06-.94-.94-2.06-.94 2.06-2.06.94zm-11 1L8.5 8.5l.94-2.06 2.06-.94-2.06-.94L8.5 2.5l-.94 2.06-2.06.94zm10 10l.94 2.06.94-2.06 2.06-.94-2.06-.94-.94-2.06-.94 2.06-2.06.94z\"/><path d=\"M17.41 7.96l-1.37-1.37c-.4-.4-.92-.59-1.43-.59-.52 0-1.04.2-1.43.59L10.3 9.45l-7.72 7.72c-.78.78-.78 2.05 0 2.83L4 21.41c.39.39.9.59 1.41.59.51 0 1.02-.2 1.41-.59l7.78-7.78 2.81-2.81c.8-.78.8-2.07 0-2.86zM5.41 20L4 18.59l7.72-7.72 1.47 1.35L5.41 20z\"/>\n",
              "  </svg>\n",
              "      </button>\n",
              "      \n",
              "  <style>\n",
              "    .colab-df-container {\n",
              "      display:flex;\n",
              "      flex-wrap:wrap;\n",
              "      gap: 12px;\n",
              "    }\n",
              "\n",
              "    .colab-df-convert {\n",
              "      background-color: #E8F0FE;\n",
              "      border: none;\n",
              "      border-radius: 50%;\n",
              "      cursor: pointer;\n",
              "      display: none;\n",
              "      fill: #1967D2;\n",
              "      height: 32px;\n",
              "      padding: 0 0 0 0;\n",
              "      width: 32px;\n",
              "    }\n",
              "\n",
              "    .colab-df-convert:hover {\n",
              "      background-color: #E2EBFA;\n",
              "      box-shadow: 0px 1px 2px rgba(60, 64, 67, 0.3), 0px 1px 3px 1px rgba(60, 64, 67, 0.15);\n",
              "      fill: #174EA6;\n",
              "    }\n",
              "\n",
              "    [theme=dark] .colab-df-convert {\n",
              "      background-color: #3B4455;\n",
              "      fill: #D2E3FC;\n",
              "    }\n",
              "\n",
              "    [theme=dark] .colab-df-convert:hover {\n",
              "      background-color: #434B5C;\n",
              "      box-shadow: 0px 1px 3px 1px rgba(0, 0, 0, 0.15);\n",
              "      filter: drop-shadow(0px 1px 2px rgba(0, 0, 0, 0.3));\n",
              "      fill: #FFFFFF;\n",
              "    }\n",
              "  </style>\n",
              "\n",
              "      <script>\n",
              "        const buttonEl =\n",
              "          document.querySelector('#df-161bfcfb-e789-402e-b041-afc2898100d6 button.colab-df-convert');\n",
              "        buttonEl.style.display =\n",
              "          google.colab.kernel.accessAllowed ? 'block' : 'none';\n",
              "\n",
              "        async function convertToInteractive(key) {\n",
              "          const element = document.querySelector('#df-161bfcfb-e789-402e-b041-afc2898100d6');\n",
              "          const dataTable =\n",
              "            await google.colab.kernel.invokeFunction('convertToInteractive',\n",
              "                                                     [key], {});\n",
              "          if (!dataTable) return;\n",
              "\n",
              "          const docLinkHtml = 'Like what you see? Visit the ' +\n",
              "            '<a target=\"_blank\" href=https://colab.research.google.com/notebooks/data_table.ipynb>data table notebook</a>'\n",
              "            + ' to learn more about interactive tables.';\n",
              "          element.innerHTML = '';\n",
              "          dataTable['output_type'] = 'display_data';\n",
              "          await google.colab.output.renderOutput(dataTable, element);\n",
              "          const docLink = document.createElement('div');\n",
              "          docLink.innerHTML = docLinkHtml;\n",
              "          element.appendChild(docLink);\n",
              "        }\n",
              "      </script>\n",
              "    </div>\n",
              "  </div>\n",
              "  "
            ]
          },
          "metadata": {},
          "execution_count": 8
        }
      ]
    },
    {
      "cell_type": "code",
      "source": [
        "import seaborn as sns\n",
        "sns.countplot(x='intention', data=df)"
      ],
      "metadata": {
        "id": "UvSKA5exfx9z"
      },
      "execution_count": null,
      "outputs": []
    },
    {
      "cell_type": "code",
      "source": [
        "def preprocess_text(text, flg_stemm=False, flg_lemm=True, lst_stopwords=None):\n",
        "      ## clean (convert to lowercase and remove punctuations and characters and then strip)\n",
        "    text = re.sub(r'[^\\w\\s]', '', str(text).lower().strip())\n",
        "\n",
        "    ## Tokenize (convert from string to list)\n",
        "    lst_text = text.split()\n",
        "\n",
        "    ## remove Stopwords\n",
        "    if lst_stopwords is not None:\n",
        "        lst_text = [word for word in lst_text if word not in lst_stopwords]\n",
        "\n",
        "    ## Stemming (remove -ing, -ly, ...)\n",
        "    if flg_stemm == True:\n",
        "        ps = nltk.stem.porter.PorterStemmer()\n",
        "        lst_text = [ps.stem(word) for word in lst_text]\n",
        "\n",
        "    ## Lemmatisation (convert the word into root word)\n",
        "    if flg_lemm == True:\n",
        "        lem = nltk.stem.wordnet.WordNetLemmatizer()\n",
        "        lst_text = [lem.lemmatize(word) for word in lst_text]\n",
        "\n",
        "    ## back to string from list\n",
        "    text = \" \".join(lst_text)\n",
        "    return text\n",
        "lst_stopwords=['we',  'our',  'ours',  'ourselves',  'you',  \"you're\",  \"you've\",  \"you'll\",  \"you'd\",  'your',  'yours',  'yourself',  'yourselves',  'he',  'him',  'his',  'himself',  'she',  \"she's\",  'her',  'hers',  'herself',  'it',  \"it's\",  'its',  'itself',  'they',  'them',  'their',  'theirs',  'themselves',  'what',  'which',  'who',  'whom',  'this',  'that',  \"that'll\",  'these',  'those',  'am',  'is',  'are',  'was',  'were',  'be',  'been',  'being',  'have',  'has',  'had',  'having',  'do',  'does',  'did',  'doing',  'a',  'an',  'the',  'and',  'but',  'if',  'or',  'because',  'as',  'until',  'while',  'of',  'at',  'by',  'for',  'with',  'about',  'against',  'between',  'into',  'through',  'during',  'before',  'after',  'above',  'below',  'to',  'from',  'up',  'down',  'in',  'out',  'on',  'off',  'over',  'under',  'again',  'further',  'then',  'once',  'here',  'there',  'when',  'where',  'why',  'how',  'all',  'any',  'both',  'each',  'few',  'more',  'most',  'other',  'some',  'such',  'no',  'nor',  'not',  'only',  'own',  'same',  'so',  'than',  'too',  'very',  's',  't',  'can',  'will',  'just',  'don',  \"don't\",  'should',  \"should've\",  'now',  'd',  'll',  'm',  'o',  're',  've',  'y',  'ain',  'aren',  \"aren't\",  'couldn',  \"couldn't\",  'didn',  \"didn't\",  'doesn',  \"doesn't\",  'hadn',  \"hadn't\",  'hasn',  \"hasn't\",  'haven',  \"haven't\",  'isn',  \"isn't\",  'ma',  'mightn',  \"mightn't\",  'mustn',  \"mustn't\",  'needn',  \"needn't\",  'shan',  \"shan't\",  'shouldn',  \"shouldn't\",  'wasn',  \"wasn't\",  'weren',  \"weren't\",  'won',  \"won't\",  'wouldn',  \"wouldn't\"]\n",
        "\n",
        "df[\"Tweet\"]= df[\"tweet\"].apply(lambda x: preprocess_text(x, flg_stemm=False, flg_lemm=True,lst_stopwords=lst_stopwords))\n"
      ],
      "metadata": {
        "id": "r5aH51JB4BOv"
      },
      "execution_count": null,
      "outputs": []
    },
    {
      "cell_type": "code",
      "source": [
        "x_train, x_test, y_train, y_test = train_test_split(df[\"Tweet\"],df[\"intention\"], test_size = 0.33, random_state = 42)"
      ],
      "metadata": {
        "id": "3-w8nNHF4BRU"
      },
      "execution_count": null,
      "outputs": []
    },
    {
      "cell_type": "code",
      "source": [
        "word_tokenizer = Tokenizer()\n",
        "word_tokenizer.fit_on_texts(x_train)\n",
        "\n",
        "x_train = word_tokenizer.texts_to_sequences(x_train)\n",
        "x_test = word_tokenizer.texts_to_sequences(x_test)\n",
        "x_train"
      ],
      "metadata": {
        "id": "qp3PC17u4BXl"
      },
      "execution_count": null,
      "outputs": []
    },
    {
      "cell_type": "code",
      "source": [
        "vocab_length = len(word_tokenizer.word_index) + 1\n",
        "\n",
        "vocab_length"
      ],
      "metadata": {
        "colab": {
          "base_uri": "https://localhost:8080/"
        },
        "id": "xO8EQQBJgADj",
        "outputId": "c7cbdfdf-73fa-472c-9c04-b89b71be4359"
      },
      "execution_count": null,
      "outputs": [
        {
          "output_type": "execute_result",
          "data": {
            "text/plain": [
              "18318"
            ]
          },
          "metadata": {},
          "execution_count": 12
        }
      ]
    },
    {
      "cell_type": "code",
      "source": [
        "maxlen = 100\n",
        "\n",
        "x_train = pad_sequences(x_train, padding='post', maxlen=maxlen)\n",
        "x_test = pad_sequences(x_test, padding='post', maxlen=maxlen)\n",
        "x_train"
      ],
      "metadata": {
        "id": "g4zGKgYAgAGn",
        "colab": {
          "base_uri": "https://localhost:8080/"
        },
        "outputId": "14588972-854e-43ef-ba37-7b7f01df3d1d"
      },
      "execution_count": null,
      "outputs": [
        {
          "output_type": "execute_result",
          "data": {
            "text/plain": [
              "array([[  253,  1141,  7981, ...,     0,     0,     0],\n",
              "       [   72,     1,     5, ...,     1,    95,    67],\n",
              "       [  408,   225,     1, ...,     0,     0,     0],\n",
              "       ...,\n",
              "       [    1,     9, 18316, ...,     0,     0,     0],\n",
              "       [  143,    29,    46, ...,     0,     0,     0],\n",
              "       [ 3375,   290,  7697, ...,     0,     0,     0]], dtype=int32)"
            ]
          },
          "metadata": {},
          "execution_count": 13
        }
      ]
    },
    {
      "cell_type": "code",
      "source": [
        "from numpy import asarray\n",
        "from numpy import zeros\n",
        "\n",
        "embeddings_dictionary = dict()\n",
        "glove_file = open('/content/drive/MyDrive/FINAL/Copy of a2_glove.6B.100d.txt', encoding=\"utf8\")\n",
        "\n",
        "for line in glove_file:\n",
        "    records = line.split()\n",
        "    word = records[0]\n",
        "    vector_dimensions = asarray(records[1:], dtype='float32')\n",
        "    embeddings_dictionary [word] = vector_dimensions\n",
        "glove_file.close()"
      ],
      "metadata": {
        "id": "lfVBYafmgAJy"
      },
      "execution_count": null,
      "outputs": []
    },
    {
      "cell_type": "code",
      "source": [
        "embedding_matrix = zeros((vocab_length, 100))\n",
        "for word, index in word_tokenizer.word_index.items():\n",
        "    embedding_vector = embeddings_dictionary.get(word)\n",
        "    if embedding_vector is not None:\n",
        "        embedding_matrix[index] = embedding_vector\n",
        "embedding_matrix.shape"
      ],
      "metadata": {
        "colab": {
          "base_uri": "https://localhost:8080/"
        },
        "id": "n7d3abwLlrGw",
        "outputId": "47ca2375-c039-41dd-9d38-b628566963db"
      },
      "execution_count": null,
      "outputs": [
        {
          "output_type": "execute_result",
          "data": {
            "text/plain": [
              "(18318, 100)"
            ]
          },
          "metadata": {},
          "execution_count": 15
        }
      ]
    },
    {
      "cell_type": "code",
      "source": [],
      "metadata": {
        "id": "WO7GGSQRmAIu"
      },
      "execution_count": null,
      "outputs": []
    },
    {
      "cell_type": "code",
      "source": [
        "snn_model = Sequential()\n",
        "embedding_layer = Embedding(vocab_length, 100, weights=[embedding_matrix], input_length=maxlen , trainable=False)\n",
        "\n",
        "snn_model.add(embedding_layer)\n",
        "\n",
        "snn_model.add(Flatten())\n",
        "snn_model.add(Dense(1, activation='sigmoid'))"
      ],
      "metadata": {
        "id": "C7vud5WrmASW"
      },
      "execution_count": null,
      "outputs": []
    },
    {
      "cell_type": "code",
      "source": [
        "snn_model.compile(optimizer='adam', loss='binary_crossentropy', metrics=['acc'])\n",
        "\n",
        "print(snn_model.summary())"
      ],
      "metadata": {
        "id": "5Ek9li6XmEC9"
      },
      "execution_count": null,
      "outputs": []
    },
    {
      "cell_type": "code",
      "source": [
        "snn_model_history = snn_model.fit(x_train, y_train, epochs=10 , verbose=1, validation_split=0.2)"
      ],
      "metadata": {
        "id": "JUyc_b4AmEHj"
      },
      "execution_count": null,
      "outputs": []
    },
    {
      "cell_type": "code",
      "source": [
        "score = snn_model.evaluate(x_test, y_test, verbose=1)"
      ],
      "metadata": {
        "id": "NFJxdmGNmEK1"
      },
      "execution_count": null,
      "outputs": []
    },
    {
      "cell_type": "code",
      "source": [
        "print(\"Test Score:\", score[0])\n",
        "print(\"Test Accuracy:\", score[1])"
      ],
      "metadata": {
        "id": "2mzgbSCImEN8"
      },
      "execution_count": null,
      "outputs": []
    },
    {
      "cell_type": "code",
      "source": [
        "import matplotlib.pyplot as plt\n",
        "\n",
        "plt.plot(snn_model_history.history['acc'])\n",
        "plt.plot(snn_model_history.history['val_acc'])\n",
        "\n",
        "plt.title('model accuracy')\n",
        "plt.ylabel('accuracy')\n",
        "plt.xlabel('epoch')\n",
        "plt.legend(['train','test'], loc='upper left')\n",
        "plt.show()\n",
        "\n",
        "plt.plot(snn_model_history.history['loss'])\n",
        "plt.plot(snn_model_history.history['val_loss'])\n",
        "\n",
        "plt.title('model loss')\n",
        "plt.ylabel('loss')\n",
        "plt.xlabel('epoch')\n",
        "plt.legend(['train','test'], loc='upper left')\n",
        "plt.show()"
      ],
      "metadata": {
        "id": "uqP7WVOtBpk-"
      },
      "execution_count": null,
      "outputs": []
    },
    {
      "cell_type": "code",
      "source": [
        "from keras.layers import Conv1D"
      ],
      "metadata": {
        "id": "3WoIdTwtCFGF"
      },
      "execution_count": null,
      "outputs": []
    },
    {
      "cell_type": "code",
      "source": [
        "cnn_model = Sequential()\n",
        "\n",
        "embedding_layer = Embedding(vocab_length, 100, weights=[embedding_matrix], input_length=maxlen , trainable=False)\n",
        "cnn_model.add(embedding_layer)\n",
        "\n",
        "cnn_model.add(Conv1D(128, 5, activation='relu'))\n",
        "cnn_model.add(GlobalMaxPooling1D())\n",
        "cnn_model.add(Dense(1, activation='sigmoid'))"
      ],
      "metadata": {
        "id": "ztpK7XOhCFJe"
      },
      "execution_count": null,
      "outputs": []
    },
    {
      "cell_type": "code",
      "source": [
        "cnn_model.compile(optimizer='adam', loss='binary_crossentropy', metrics=['acc'])\n",
        "print(cnn_model.summary())"
      ],
      "metadata": {
        "id": "Xqs7QqIECFM1"
      },
      "execution_count": null,
      "outputs": []
    },
    {
      "cell_type": "code",
      "source": [
        "cnn_model_history = cnn_model.fit(x_train, y_train, epochs=6, verbose=1, validation_split=0.2)"
      ],
      "metadata": {
        "id": "JAM-3VpoCFP8"
      },
      "execution_count": null,
      "outputs": []
    },
    {
      "cell_type": "code",
      "source": [
        "score = cnn_model.evaluate(x_test, y_test, verbose=1)"
      ],
      "metadata": {
        "id": "2amz36XgCFS9"
      },
      "execution_count": null,
      "outputs": []
    },
    {
      "cell_type": "code",
      "source": [
        "print(\"Test Score:\", score[0])\n",
        "print(\"Test Accuracy:\", score[1])"
      ],
      "metadata": {
        "id": "3BV2THnUCnpb"
      },
      "execution_count": null,
      "outputs": []
    },
    {
      "cell_type": "code",
      "source": [
        "import matplotlib.pyplot as plt\n",
        "\n",
        "plt.plot(cnn_model_history.history['acc'])\n",
        "plt.plot(cnn_model_history.history['val_acc'])\n",
        "\n",
        "plt.title('model accuracy')\n",
        "plt.ylabel('accuracy')\n",
        "plt.xlabel('epoch')\n",
        "plt.legend(['train','test'], loc = 'upper left')\n",
        "plt.show()\n",
        "\n",
        "plt.plot(cnn_model_history.history['loss'])\n",
        "plt.plot(cnn_model_history.history['val_loss'])\n",
        "\n",
        "plt.title('model loss')\n",
        "plt.ylabel('loss')\n",
        "plt.xlabel('epoch')\n",
        "plt.legend(['train','test'], loc = 'upper left')\n",
        "plt.show()"
      ],
      "metadata": {
        "id": "HHO1S4RDCntG"
      },
      "execution_count": null,
      "outputs": []
    },
    {
      "cell_type": "code",
      "source": [
        "from keras.layers import LSTM"
      ],
      "metadata": {
        "id": "_4VkyLLcC0rW"
      },
      "execution_count": null,
      "outputs": []
    },
    {
      "cell_type": "code",
      "source": [
        "lstm_model = Sequential()\n",
        "embedding_layer = Embedding(vocab_length, 100, weights=[embedding_matrix], input_length=maxlen , trainable=False)\n",
        "\n",
        "lstm_model.add(embedding_layer)\n",
        "lstm_model.add(LSTM(128))\n",
        "\n",
        "lstm_model.add(Dense(1, activation='sigmoid'))"
      ],
      "metadata": {
        "id": "jwGAp6AjC0uU"
      },
      "execution_count": null,
      "outputs": []
    },
    {
      "cell_type": "code",
      "source": [
        "lstm_model.compile(optimizer='adam', loss='binary_crossentropy', metrics=['acc'])\n",
        "print(lstm_model.summary())"
      ],
      "metadata": {
        "id": "toP3BYBRC0xy"
      },
      "execution_count": null,
      "outputs": []
    },
    {
      "cell_type": "code",
      "source": [
        "lstm_model_history = lstm_model.fit(x_train, y_train, epochs=6, verbose=1, validation_split=0.2)"
      ],
      "metadata": {
        "id": "f1qqaG3IC01S"
      },
      "execution_count": null,
      "outputs": []
    },
    {
      "cell_type": "code",
      "source": [
        "score = lstm_model.evaluate(x_test, y_test, verbose=1)"
      ],
      "metadata": {
        "id": "W-7Kb2qxC04r"
      },
      "execution_count": null,
      "outputs": []
    },
    {
      "cell_type": "code",
      "source": [
        "print(\"Test Score:\", score[0])\n",
        "print(\"Test Accuracy:\", score[1])"
      ],
      "metadata": {
        "id": "aF01KF1UC07z"
      },
      "execution_count": null,
      "outputs": []
    },
    {
      "cell_type": "code",
      "source": [
        "import matplotlib.pyplot as plt\n",
        "\n",
        "plt.plot(lstm_model_history.history['acc'])\n",
        "plt.plot(lstm_model_history.history['val_acc'])\n",
        "\n",
        "plt.title('model accuracy')\n",
        "plt.ylabel('accuracy')\n",
        "plt.xlabel('epoch')\n",
        "plt.legend(['train','test'], loc='upper left')\n",
        "plt.show()\n",
        "\n",
        "plt.plot(lstm_model_history.history['loss'])\n",
        "plt.plot(lstm_model_history.history['val_loss'])\n",
        "\n",
        "plt.title('model loss')\n",
        "plt.ylabel('loss')\n",
        "plt.xlabel('epoch')\n",
        "plt.legend(['train','test'], loc='upper left')\n",
        "plt.show()"
      ],
      "metadata": {
        "id": "R5aqfHPTDPI5"
      },
      "execution_count": null,
      "outputs": []
    },
    {
      "cell_type": "code",
      "source": [
        "lstm_model.save('lstm.h5')"
      ],
      "metadata": {
        "id": "3BGY_sgf2z88"
      },
      "execution_count": null,
      "outputs": []
    },
    {
      "cell_type": "code",
      "source": [
        "\n",
        "import tensorflow as tf\n",
        "from tensorflow import keras\n",
        "\n",
        "\n",
        "new=tf.keras.models.load_model('/content/drive/MyDrive/FINAL/lstm.h5')\n"
      ],
      "metadata": {
        "id": "QnaOc_hI2z_e"
      },
      "execution_count": null,
      "outputs": []
    },
    {
      "cell_type": "code",
      "source": [
        "twet=tdf['Tweet']\n",
        "twet"
      ],
      "metadata": {
        "colab": {
          "base_uri": "https://localhost:8080/"
        },
        "id": "LFaIDr5XER0G",
        "outputId": "5721df28-c79c-41bd-c2e7-4a6445f21273"
      },
      "execution_count": null,
      "outputs": [
        {
          "output_type": "execute_result",
          "data": {
            "text/plain": [
              "0                  hotspurs at the top of my suicide note\n",
              "1                       why is he wearing a chrome hoodie\n",
              "2       me sharing my favorite songs on my IG stories ...\n",
              "3                                          man beat death\n",
              "4        i have never seen your opps come back gracefu...\n",
              "                              ...                        \n",
              "5951                           idk if i can finish it man\n",
              "5952    HOW COULD I BE AROUND DAISY JONES AND NOT BE M...\n",
              "5953                 my mother makes my blood boil yippee\n",
              "5954    that was horrendousi almost threw up that was ...\n",
              "5955    I sta ed replaying it with a speedhack and ins...\n",
              "Name: Tweet, Length: 5955, dtype: object"
            ]
          },
          "metadata": {},
          "execution_count": 17
        }
      ]
    },
    {
      "cell_type": "code",
      "source": [
        "x_final=tdf['Tweet']\n",
        "x_final"
      ],
      "metadata": {
        "id": "c1tqJ7O4ER3w",
        "colab": {
          "base_uri": "https://localhost:8080/"
        },
        "outputId": "c850f028-ced7-442e-8ba3-dd4a7a9f35f7"
      },
      "execution_count": null,
      "outputs": [
        {
          "output_type": "execute_result",
          "data": {
            "text/plain": [
              "0                  hotspurs at the top of my suicide note\n",
              "1                       why is he wearing a chrome hoodie\n",
              "2       me sharing my favorite songs on my IG stories ...\n",
              "3                                          man beat death\n",
              "4        i have never seen your opps come back gracefu...\n",
              "                              ...                        \n",
              "5951                           idk if i can finish it man\n",
              "5952    HOW COULD I BE AROUND DAISY JONES AND NOT BE M...\n",
              "5953                 my mother makes my blood boil yippee\n",
              "5954    that was horrendousi almost threw up that was ...\n",
              "5955    I sta ed replaying it with a speedhack and ins...\n",
              "Name: Tweet, Length: 5955, dtype: object"
            ]
          },
          "metadata": {},
          "execution_count": 18
        }
      ]
    },
    {
      "cell_type": "code",
      "source": [
        "x_final = word_tokenizer.texts_to_sequences(x_final)\n"
      ],
      "metadata": {
        "id": "n1EfhnkHER7Q"
      },
      "execution_count": null,
      "outputs": []
    },
    {
      "cell_type": "code",
      "source": [
        "vocab_length = len(word_tokenizer.word_index) + 1\n",
        "\n",
        "vocab_length"
      ],
      "metadata": {
        "colab": {
          "base_uri": "https://localhost:8080/"
        },
        "id": "hfCnNR_2ESTw",
        "outputId": "d307ed30-7cdf-4917-f759-d24238be7668"
      },
      "execution_count": null,
      "outputs": [
        {
          "output_type": "execute_result",
          "data": {
            "text/plain": [
              "18318"
            ]
          },
          "metadata": {},
          "execution_count": 20
        }
      ]
    },
    {
      "cell_type": "code",
      "source": [
        "x_final = pad_sequences(x_final, padding='post', maxlen=maxlen)"
      ],
      "metadata": {
        "id": "P6oDxdjKESXh"
      },
      "execution_count": null,
      "outputs": []
    },
    {
      "cell_type": "code",
      "source": [
        "pred = new.predict(x_final, verbose=1).round()"
      ],
      "metadata": {
        "colab": {
          "base_uri": "https://localhost:8080/"
        },
        "id": "P3xQ6z-WG0Tn",
        "outputId": "703ca058-1b34-4d58-c744-32c8f7810066"
      },
      "execution_count": null,
      "outputs": [
        {
          "output_type": "stream",
          "name": "stdout",
          "text": [
            "187/187 [==============================] - 6s 3ms/step\n"
          ]
        }
      ]
    },
    {
      "cell_type": "code",
      "source": [
        "unique, counts = np.unique(pred, return_counts=True)\n",
        "unique,counts"
      ],
      "metadata": {
        "colab": {
          "base_uri": "https://localhost:8080/"
        },
        "id": "R8dhoVJbK4wQ",
        "outputId": "396fff9f-95d4-44f9-b9ec-06806889fa7f"
      },
      "execution_count": null,
      "outputs": [
        {
          "output_type": "execute_result",
          "data": {
            "text/plain": [
              "(array([0., 1.], dtype=float32), array([5565,  390]))"
            ]
          },
          "metadata": {},
          "execution_count": 23
        }
      ]
    },
    {
      "cell_type": "code",
      "source": [
        "for i in range(150):\n",
        "  try:\n",
        "    print(twet[i],pred[i])\n",
        "  except KeyError:\n",
        "    continue"
      ],
      "metadata": {
        "id": "RPCzAvOvG0Wz",
        "colab": {
          "base_uri": "https://localhost:8080/"
        },
        "outputId": "f66e76ba-12e8-48d3-ebe5-06d7741db29d"
      },
      "execution_count": null,
      "outputs": [
        {
          "output_type": "stream",
          "name": "stdout",
          "text": [
            " hotspurs at the top of my suicide note [1.]\n",
            "why is he wearing a chrome hoodie [0.]\n",
            "me sharing my favorite songs on my IG stories when nobody asked  [0.]\n",
            " man beat death [0.]\n",
            " i have never seen your opps come back gracefully like ever not once [0.]\n",
            " genuinely [0.]\n",
            "why is it called liquid death if its just water [0.]\n",
            " hey lonely [0.]\n",
            "This one. I didn't think so many people would like it lol  [0.]\n",
            "brent rambo out there stepping [0.]\n",
            " LMFAOOOOOOO [0.]\n",
            " there will be three black dodge chargers outside your home  [0.]\n",
            "who the fuck is smoking the jigarette  [1.]\n",
            " siddhi world was so hard i still cant get over it [0.]\n",
            " i still have to play it but isnt that pa of like one of the biggest plot points in the whole story [0.]\n",
            "hot girlsssss  [0.]\n",
            " its crazy bc even tho im very late i can still hear his sound in the current waveyall were no  [0.]\n",
            " yep i was born in 2007 i wasnt really concious when he was making noise [0.]\n",
            " someone wrote that copy pasta out for another person i follow i j thought it was silly [0.]\n",
            "  I had two from 1991 -Jan 2022\n",
            "Bella was 2 from the Humane Society. She tapped me on  [0.]\n",
            "  It's true. I lived in Australia for nearly two years. The first question  people woukd a  [0.]\n",
            "  Was this a good guy with a gun at a school? \n",
            "Intended Sarcasm. [0.]\n",
            "  My thoughts exactly, when it happened. [0.]\n",
            " Still Following [0.]\n",
            "  You're wearing little shoes!  [0.]\n",
            "  I'm sorry for your loss. I lost my cat a year ago and still miss her. I'm finally re  [0.]\n",
            " You too! [0.]\n",
            "This has been floating around a long time   [0.]\n",
            "  Federal investigators increase reward for information leading to the arrest of the Capitol pipe bomber from $100,000 to $500,0 [0.]\n",
            "The  is a beautiful place. I have two girls there.I hope you make friends.  [0.]\n",
            " Neither is Gaetz [0.]\n",
            " Yeah Direct line, I'm sure. I don't think he'll win a  primary,  but I think she's been chosen VP for his 24 'run.' [0.]\n",
            "Im tired of livingIm tired of existing  But I will never do anything about it cause Im a loser A fucking lose  [0.]\n",
            " Thanks for caring simple [0.]\n",
            " Just don't say anything Don't feel obligated to Just care for yourself before you give advice to  [0.]\n",
            "Alright, I think I am going on official hiatus When will I be back? I have no clue just take care you guys, cya [0.]\n",
            "It's a cycleI get sadI get angryI realize RinseRepeat My doomed cycle of living my funny life ...Maybe  [0.]\n",
            "  thought process, me deciding to go away for school had a lot to do with the danger factor. I just  [0.]\n",
            "  the park invitation was already out there, so I couldn't take it back now} [0.]\n",
            "  know if I could trust him with my secret, yet I didn't want to continue a friendship based on lie  [0.]\n",
            "  a ticket. {Was this a date? I don't even know, at this point. I mean, obviously my wall was up, b  [0.]\n",
            "  uncomfoable between us} Anyway, there's a movie in the park thing happening tomorrow night... D  [0.]\n",
            "  really was... He was my hero... The best guy I knew... He was my best friend. {I muttered out qui  [0.]\n",
            "  topic of my dad's death was a touchy one for me. Still, even though my instinct was to pull my ha  [1.]\n",
            "My fellow zlarpers staring at my suicide note in absolutely horror and terror as they read the broken mind of a man  [1.]\n",
            "Prepare for more bombardment from me again [0.]\n",
            " That would be really weird i will say  [0.]\n",
            "I need more clout  [0.]\n",
            "AHAHABHAHAHAHAHAH  [0.]\n",
            "Alright then so i gonna say this now. I AM ONE OF THE YOUNGEST ZLARPERS! SO I CAN'T DO SUS STUFF!!!!!  [1.]\n",
            "My favorite boss in Doom 2016  [0.]\n",
            " erm.... no way! [0.]\n",
            " I hate them Bug people from the beginning of the sayian saga, stupid buggas [0.]\n",
            "Oh yeah? well im friends with Maxwell the cat! [0.]\n",
            "In the movie Hulk (2003) the Hulk has three different sizes. in the first form he is standing at 10 ft, in his rage  [0.]\n",
            " Thank you as well Kiryu, i have a feeling that it will be soon as well  [0.]\n",
            " Clearly!  [0.]\n",
            " That's interesting. [0.]\n",
            " your extremely scary. [0.]\n",
            " So strong..... [0.]\n",
            "2023 was 0 years ago  [0.]\n",
            " erm.... why are you being so commanding?! [0.]\n",
            " Loyalty is great trait Kiryu. [0.]\n",
            " erm.... that wasn't a question! [0.]\n",
            " Then perish  [0.]\n",
            "Leigh thinks its funny im writing my pigs suicide note rn [0.]\n",
            "Pussy weed oil [0.]\n",
            "Its not hard to not cockblock yourself yet ppl keep managing to do it a lot lately huh [0.]\n",
            "Theres cheese in my pants [0.]\n",
            "Can you skin my pliers [0.]\n",
            "Beep beep Turkey time sluts [0.]\n",
            "Phone sex on the switch -@b1udlust [0.]\n",
            "Foreskin = cock pocket [0.]\n",
            "The 3 condiments: Ketchup, mustard and cum [0.]\n",
            " has the legal rights to call me an idiot now [0.]\n",
            "My eyeliner pissed on me [0.]\n",
            "Airpod in da bong [0.]\n",
            "IT JUS SHO OUT NVM I GET MY FRIES [0.]\n",
            "Frie- FUCK. The deep fryers broken [1.]\n",
            "My ramen squied [0.]\n",
            "My arm might be a lil broken but at least my dick isnt [0.]\n",
            "You gota turn the bong off with the bottom of grinder [0.]\n",
            "Weed cum [0.]\n",
            "Stoner wit a cheese grater-stoner wit a knife [0.]\n",
            "You cant escape the bitch with the bong -me [0.]\n",
            "Get a new car and nobody know wtf Im in. [0.]\n",
            "And never invite anybody over  [0.]\n",
            "Cant wait to move and not tell nobody where I live  [1.]\n",
            " Girl they was good when I first staed buying them now they just nasty as hell. [0.]\n",
            "Should have went to Dairy Queen  [0.]\n",
            "Everytime I spend my money shit be nasty [1.]\n",
            "Damn cookies nasty asf  [0.]\n",
            "Cause I aint give af if she found the shit or not she was aggravating tf outta me  [0.]\n",
            "She was like turn here now turn there, now drive 5 house up  like bitch what ? Who are you inspector gadget  [0.]\n",
            "Its my sister finding the exact house of the people who stole my momma phone  [0.]\n",
            "Finna watch Zatima  [0.]\n",
            "My fat ass eating Crumbl Cookies  [0.]\n",
            "Never did   [0.]\n",
            "Maybe if I just get one  [0.]\n",
            "I would go to crumble  cookie but they dont have enough flavors I want  [1.]\n",
            "Wish we had a Cinnabon. [0.]\n",
            "But what  [0.]\n",
            "Im tired of living, Ive done it long enough [1.]\n",
            "Craving a quesadilla [0.]\n",
            "Im tired of living, Ive done it long enough [1.]\n",
            " little people satanist erotics then a check for $200,000 then my suicide note [0.]\n",
            "i wrote a small collection of poems but dont feel like making books so here it is for free:\n",
            "\n",
            "s://t.co/UuYBvi2gS5 [0.]\n",
            "not enough weights in the gym to make these bench presses wohwhilefucking hate being super jacked and handsome [0.]\n",
            " my god i need it on a chain immediately [0.]\n",
            " fucking reserved* [0.]\n",
            " glazed should be referred for describing donuts and cum but still very based poem [0.]\n",
            " we need to fund more GMO meat products!!! [0.]\n",
            " lexi seems intelligent and well informed [0.]\n",
            " deer are known to cannibalize and consume carrion. also a vampiric butterfly out in the world drinking blood [0.]\n",
            "not to get too political but big huge milker gazoonga tits are the key to Americas economic rise [0.]\n",
            " im 13 :) [0.]\n",
            "i disagree with your statement its that easy man :-/ [0.]\n",
            " little people satanist erotics then a check for $200,000 then my suicide note [0.]\n",
            " ahhh fuck [1.]\n",
            "basic movie plot told in a creative jarring way. watched the linear version and i  [0.]\n",
            "speaking telepathically to my snail and fish  [0.]\n",
            "fuck the dutch 2023 [1.]\n",
            "P oems  [0.]\n",
            "I don't believe in 'nutrition', which is a bit of a double-edged sword as I find the raw meat paleo whatever diets stupi [0.]\n",
            "telling girls im an evil piece of shit and it just works [0.]\n",
            " painal [0.]\n",
            "Your opinion about me counts for nothing, nna I'm not those you climb [0.]\n",
            "With this kind of stupidity I don't blame sisters for choosing African brothers. [0.]\n",
            "Take your vote and vutsek, EFF will not die because you left. We recru [0.]\n",
            "Vutsek [0.]\n",
            "I woke up with a series of your tweets responding to me directly o nnyel [0.]\n",
            "Le nyela batho and expect them to be nice? Nna o nyele mo honna [0.]\n",
            "You're foolish because mh reference is based on the picture that is shar [0.]\n",
            "The fact you believe that proves that you're idiotic. [0.]\n",
            "Do you even know what is politics? Those laughing emojis just prove that you're childish. [0.]\n",
            "Mxm, it would have been better if you said nothing. [0.]\n",
            "So what does that have to do with you? Are you a failure? [0.]\n",
            "So does that mean you're useless and less capable? [0.]\n",
            "You insult people and expect roses in return? I'm not your child wena. [0.]\n",
            "Nothing could be more shameful than to have been defeated once by the likes of you. Especially knowing that you're [0.]\n",
            "Do you think that if you put your life on the line fighting for others, someone will stamp a form ce ifying that you deserve to live? [0.]\n",
            "Nothing could be more shameful than to have been defeated once by the likes of you. Especially knowing that you're [0.]\n",
            "I... I loved them all... I loved Laphi, and Celica... A hur, everyone... To have it all stolen from me... Why them [0.]\n",
            "Wealth is a nightmare. With each coveted thing we buy, we lose a thing we dream about. [0.]\n",
            "You and I are just two ships who happened to share the same course. [0.]\n",
            "If peeps can't afford it, then they'll steal it # [0.]\n",
            "The Tories have cut public services and with it quality of service because of an higher worklo [0.]\n",
            "If the police weren't so brainwashed they'd also be out on the streets striking for better wor [0.]\n",
            "When # broke 750k+ people instantly volunteered so I think a lot of people would be work [0.]\n",
            "The # have been cutting many public services with the result of poor services because of h [0.]\n"
          ]
        }
      ]
    },
    {
      "cell_type": "code",
      "source": [
        "pred = lstm_model.predict(x_final, verbose=1).round()"
      ],
      "metadata": {
        "id": "vCUZ2lWGG0aN"
      },
      "execution_count": null,
      "outputs": []
    },
    {
      "cell_type": "code",
      "source": [],
      "metadata": {
        "id": "mA-ur9nrG0dY"
      },
      "execution_count": null,
      "outputs": []
    }
  ]
}